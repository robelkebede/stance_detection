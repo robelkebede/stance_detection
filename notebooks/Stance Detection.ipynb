{
 "cells": [
  {
   "cell_type": "markdown",
   "metadata": {},
   "source": [
    "# Stance Detection"
   ]
  },
  {
   "cell_type": "code",
   "execution_count": 1,
   "metadata": {},
   "outputs": [],
   "source": [
    "import numpy as np\n",
    "import sys\n",
    "\n",
    "sys.path.insert(1,\"../\")\n",
    "from new_util import DataLoader\n",
    "from preprocess import Preprocess\n",
    "from tqdm.notebook import tqdm\n",
    "import matplotlib.pyplot as plt\n",
    "\n",
    "from torch import nn\n",
    "import torch.nn.functional as F\n",
    "import torch\n"
   ]
  },
  {
   "cell_type": "code",
   "execution_count": 2,
   "metadata": {},
   "outputs": [
    {
     "data": {
      "text/plain": [
       "True"
      ]
     },
     "execution_count": 2,
     "metadata": {},
     "output_type": "execute_result"
    }
   ],
   "source": [
    "\n",
    "dataloader = DataLoader()\n",
    "\n",
    "head,stances,body = dataloader.dataset()\n",
    "len(head) == len(stances) == len(body)"
   ]
  },
  {
   "cell_type": "code",
   "execution_count": 3,
   "metadata": {},
   "outputs": [],
   "source": [
    "  \n",
    "\n",
    "# i dont like this \n",
    "def encoder(stance):\n",
    "    if stance == \"agree\":\n",
    "        return 0\n",
    "    elif stance == \"disagree\":\n",
    "        return 1\n",
    "    elif stance == \"discuss\":\n",
    "        return 2\n",
    "    elif stance == \"unrelated\":\n",
    "        return 3\n",
    "    else:\n",
    "        print(stance)\n",
    "        raise\n",
    "\n",
    "def one_hot(stance):\n",
    "    st_id = encoder(stance) # beter code\n",
    "    zeros = np.zeros(4)\n",
    "    zeros[st_id] = 1\n",
    "    return zeros\n",
    "   \n",
    "labels = [list(one_hot(i)) for i in stances] \n",
    "target = [encoder(i) for i in stances]\n",
    "#print(stances)"
   ]
  },
  {
   "cell_type": "code",
   "execution_count": 4,
   "metadata": {},
   "outputs": [
    {
     "name": "stdout",
     "output_type": "stream",
     "text": [
      "[0.0, 0.0, 0.0, 1.0]\n",
      "unrelated\n"
     ]
    }
   ],
   "source": [
    "print(labels[0])\n",
    "print(stances[0])"
   ]
  },
  {
   "cell_type": "code",
   "execution_count": 5,
   "metadata": {},
   "outputs": [],
   "source": [
    "pre = Preprocess()   # Glove embedding   \n",
    "pre.parse()  "
   ]
  },
  {
   "cell_type": "code",
   "execution_count": 6,
   "metadata": {},
   "outputs": [],
   "source": [
    "# strip out commas and unimportant words\n",
    "\n",
    "def representation(data):\n",
    "    pre_data = []\n",
    "    for i in tqdm(data):\n",
    "        words = []\n",
    "        \n",
    "        sep = i.split(\" \")\n",
    "        for s in sep:\n",
    "            try:\n",
    "                \n",
    "                emb = pre.embeddings_dict[s.lower().replace(\"'\",\"\").replace(\",\",\"\").replace(\"$15/\",\"\")]\n",
    "                words.append(emb)\n",
    "\n",
    "            except KeyError:\n",
    "                pass\n",
    "                #head_words.append()\n",
    "        if words != []:\n",
    "            \n",
    "            pre_data.append(np.array(words))\n",
    "   \n",
    "    #return [x for x in pre_data if x != []]\n",
    "    return pre_data "
   ]
  },
  {
   "cell_type": "code",
   "execution_count": 7,
   "metadata": {},
   "outputs": [
    {
     "data": {
      "application/vnd.jupyter.widget-view+json": {
       "model_id": "1146c11b36e44aafab74ce35dda9160b",
       "version_major": 2,
       "version_minor": 0
      },
      "text/plain": [
       "HBox(children=(HTML(value=''), FloatProgress(value=0.0, max=91.0), HTML(value='')))"
      ]
     },
     "metadata": {},
     "output_type": "display_data"
    },
    {
     "name": "stdout",
     "output_type": "stream",
     "text": [
      "\n"
     ]
    },
    {
     "data": {
      "application/vnd.jupyter.widget-view+json": {
       "model_id": "681a6b57d5304622bf2a1cf585c7e1c9",
       "version_major": 2,
       "version_minor": 0
      },
      "text/plain": [
       "HBox(children=(HTML(value=''), FloatProgress(value=0.0, max=65.0), HTML(value='')))"
      ]
     },
     "metadata": {},
     "output_type": "display_data"
    },
    {
     "name": "stdout",
     "output_type": "stream",
     "text": [
      "\n"
     ]
    },
    {
     "data": {
      "application/vnd.jupyter.widget-view+json": {
       "model_id": "a1e48783db32481ea9ee6e05d9132cf8",
       "version_major": 2,
       "version_minor": 0
      },
      "text/plain": [
       "HBox(children=(HTML(value=''), FloatProgress(value=0.0, max=1111.0), HTML(value='')))"
      ]
     },
     "metadata": {},
     "output_type": "display_data"
    },
    {
     "name": "stdout",
     "output_type": "stream",
     "text": [
      "\n"
     ]
    }
   ],
   "source": [
    "# test representation \n",
    "head_output = representation(head[2])\n",
    "head_output1 = representation(head[1])\n",
    "body_output = representation(body[2])"
   ]
  },
  {
   "cell_type": "code",
   "execution_count": 8,
   "metadata": {},
   "outputs": [
    {
     "name": "stdout",
     "output_type": "stream",
     "text": [
      "0\n"
     ]
    }
   ],
   "source": [
    "# check if the list have an empty list\n",
    "\n",
    "val = 0\n",
    "for i in head_output:\n",
    "    \n",
    "    try:\n",
    "        i[0]\n",
    "        pass\n",
    "    except IndexError:\n",
    "        \n",
    "        val+=1\n",
    "        \n",
    "print(val)"
   ]
  },
  {
   "cell_type": "code",
   "execution_count": 9,
   "metadata": {},
   "outputs": [],
   "source": [
    "# PADDING PADDING PADDING PADDINGPADDINGPADDING \n",
    "\n",
    "# find max len of head\n",
    "\n",
    "def padding(input,type):\n",
    "    \n",
    "    head_max = 200 # fix this with the maximum\n",
    "    body_max = 1000\n",
    "    \n",
    "    input = input.squeeze()\n",
    "  \n",
    "    \n",
    "    if type == \"head\":\n",
    "        \n",
    "        fixed_pad = head_max  - input.shape[0]\n",
    "        result = F.pad(input=input,pad=(0,0,0,fixed_pad), mode='constant', value=0)\n",
    "    elif type == \"body\":\n",
    "        \n",
    "        fixed_pad = body_max  - input.shape[0]\n",
    "        result = F.pad(input=input,pad=(0,0,0,fixed_pad), mode='constant', value=0)\n",
    "    else:\n",
    "        raise\n",
    "        \n",
    "    return result"
   ]
  },
  {
   "cell_type": "code",
   "execution_count": 10,
   "metadata": {},
   "outputs": [
    {
     "name": "stdout",
     "output_type": "stream",
     "text": [
      "torch.Size([200, 50])\n"
     ]
    },
    {
     "data": {
      "text/plain": [
       "'\\nprint(padding_test.shape)\\nprint(padding_test1.shape)\\nprint(data1.shape)\\nprint(data.shape)\\n\\nprint(padding_body.shape)'"
      ]
     },
     "execution_count": 10,
     "metadata": {},
     "output_type": "execute_result"
    }
   ],
   "source": [
    "# test padding and fixed padding\n",
    "data = torch.tensor(head_output)\n",
    "res = data   # fix this code\n",
    "padding_test = padding(res,\"head\")\n",
    "\n",
    "data1 = torch.tensor(head_output1)\n",
    "#res1 = data1   # fix this code\n",
    "pad = padding(data1,\"head\")\n",
    "print(pad.shape)\n",
    "\"\"\"\n",
    "print(padding_test.shape)\n",
    "print(padding_test1.shape)\n",
    "print(data1.shape)\n",
    "print(data.shape)\n",
    "\n",
    "print(padding_body.shape)\"\"\""
   ]
  },
  {
   "cell_type": "code",
   "execution_count": 11,
   "metadata": {},
   "outputs": [],
   "source": [
    "#single head output\n",
    "head_output = np.array(head_output).squeeze()"
   ]
  },
  {
   "cell_type": "code",
   "execution_count": 12,
   "metadata": {},
   "outputs": [],
   "source": [
    "# positional encoding from https://robelkebede.github.io/2020/11/06/positional-encoding.html\n",
    "\n",
    "def pos_enc(word_emb,pos):\n",
    "    \n",
    "    word_pos,word_emb = [],np.array([i for i in word_emb],dtype=np.float64)\n",
    "    \n",
    "    #print(word_emb.shape)\n",
    "    \n",
    "    for i in range(len(word_emb)):\n",
    "        k = 2*i / len(word_emb)\n",
    "        \n",
    "        if i%2 == 0:\n",
    "            word_pos.append(np.sin(pos/(100**k)))\n",
    "        else:\n",
    "            word_pos.append(np.cos(pos/(100**k)))\n",
    "            \n",
    "   \n",
    "    return  word_emb +word_pos\n",
    "    \n",
    "\n",
    "x1 = np.array([pos_enc(val,i) for i,val in enumerate(head_output)])\n"
   ]
  },
  {
   "cell_type": "code",
   "execution_count": 360,
   "metadata": {},
   "outputs": [],
   "source": [
    "%matplotlib inline"
   ]
  },
  {
   "cell_type": "code",
   "execution_count": 366,
   "metadata": {
    "scrolled": true
   },
   "outputs": [
    {
     "ename": "AttributeError",
     "evalue": "'builtin_function_or_method' object has no attribute 'shape'",
     "output_type": "error",
     "traceback": [
      "\u001b[0;31m---------------------------------------------------------------------------\u001b[0m",
      "\u001b[0;31mAttributeError\u001b[0m                            Traceback (most recent call last)",
      "\u001b[0;32m<ipython-input-366-c7b3f966dc32>\u001b[0m in \u001b[0;36m<module>\u001b[0;34m\u001b[0m\n\u001b[0;32m----> 1\u001b[0;31m \u001b[0mprint\u001b[0m\u001b[0;34m(\u001b[0m\u001b[0mx1\u001b[0m\u001b[0;34m.\u001b[0m\u001b[0mshape\u001b[0m\u001b[0;34m)\u001b[0m\u001b[0;34m\u001b[0m\u001b[0;34m\u001b[0m\u001b[0m\n\u001b[0m\u001b[1;32m      2\u001b[0m \u001b[0mprint\u001b[0m\u001b[0;34m(\u001b[0m\u001b[0mhead\u001b[0m\u001b[0;34m[\u001b[0m\u001b[0;36m0\u001b[0m\u001b[0;34m]\u001b[0m\u001b[0;34m)\u001b[0m\u001b[0;34m\u001b[0m\u001b[0;34m\u001b[0m\u001b[0m\n",
      "\u001b[0;31mAttributeError\u001b[0m: 'builtin_function_or_method' object has no attribute 'shape'"
     ]
    }
   ],
   "source": [
    "\n",
    "print(x1.shape)\n",
    "print(head[0])"
   ]
  },
  {
   "cell_type": "code",
   "execution_count": 365,
   "metadata": {},
   "outputs": [
    {
     "ename": "TypeError",
     "evalue": "Image data of dtype object cannot be converted to float",
     "output_type": "error",
     "traceback": [
      "\u001b[0;31m---------------------------------------------------------------------------\u001b[0m",
      "\u001b[0;31mTypeError\u001b[0m                                 Traceback (most recent call last)",
      "\u001b[0;32m<ipython-input-365-c2e7edc7954b>\u001b[0m in \u001b[0;36m<module>\u001b[0;34m\u001b[0m\n\u001b[1;32m      2\u001b[0m \u001b[0;34m\u001b[0m\u001b[0m\n\u001b[1;32m      3\u001b[0m \u001b[0max\u001b[0m\u001b[0;34m[\u001b[0m\u001b[0;36m0\u001b[0m\u001b[0;34m]\u001b[0m\u001b[0;34m.\u001b[0m\u001b[0mimshow\u001b[0m\u001b[0;34m(\u001b[0m\u001b[0mhead_output\u001b[0m\u001b[0;34m.\u001b[0m\u001b[0msqueeze\u001b[0m\u001b[0;34m(\u001b[0m\u001b[0;34m)\u001b[0m\u001b[0;34m)\u001b[0m\u001b[0;34m\u001b[0m\u001b[0;34m\u001b[0m\u001b[0m\n\u001b[0;32m----> 4\u001b[0;31m \u001b[0max\u001b[0m\u001b[0;34m[\u001b[0m\u001b[0;36m1\u001b[0m\u001b[0;34m]\u001b[0m\u001b[0;34m.\u001b[0m\u001b[0mimshow\u001b[0m\u001b[0;34m(\u001b[0m\u001b[0mx1\u001b[0m\u001b[0;34m)\u001b[0m\u001b[0;34m\u001b[0m\u001b[0;34m\u001b[0m\u001b[0m\n\u001b[0m\u001b[1;32m      5\u001b[0m \u001b[0;34m\u001b[0m\u001b[0m\n\u001b[1;32m      6\u001b[0m \u001b[0max\u001b[0m\u001b[0;34m[\u001b[0m\u001b[0;36m0\u001b[0m\u001b[0;34m]\u001b[0m\u001b[0;34m.\u001b[0m\u001b[0mset_title\u001b[0m\u001b[0;34m(\u001b[0m\u001b[0;34m\"original\"\u001b[0m\u001b[0;34m)\u001b[0m\u001b[0;34m\u001b[0m\u001b[0;34m\u001b[0m\u001b[0m\n",
      "\u001b[0;32m~/miniconda3/envs/vision/lib/python3.8/site-packages/matplotlib/__init__.py\u001b[0m in \u001b[0;36minner\u001b[0;34m(ax, data, *args, **kwargs)\u001b[0m\n\u001b[1;32m   1436\u001b[0m     \u001b[0;32mdef\u001b[0m \u001b[0minner\u001b[0m\u001b[0;34m(\u001b[0m\u001b[0max\u001b[0m\u001b[0;34m,\u001b[0m \u001b[0;34m*\u001b[0m\u001b[0margs\u001b[0m\u001b[0;34m,\u001b[0m \u001b[0mdata\u001b[0m\u001b[0;34m=\u001b[0m\u001b[0;32mNone\u001b[0m\u001b[0;34m,\u001b[0m \u001b[0;34m**\u001b[0m\u001b[0mkwargs\u001b[0m\u001b[0;34m)\u001b[0m\u001b[0;34m:\u001b[0m\u001b[0;34m\u001b[0m\u001b[0;34m\u001b[0m\u001b[0m\n\u001b[1;32m   1437\u001b[0m         \u001b[0;32mif\u001b[0m \u001b[0mdata\u001b[0m \u001b[0;32mis\u001b[0m \u001b[0;32mNone\u001b[0m\u001b[0;34m:\u001b[0m\u001b[0;34m\u001b[0m\u001b[0;34m\u001b[0m\u001b[0m\n\u001b[0;32m-> 1438\u001b[0;31m             \u001b[0;32mreturn\u001b[0m \u001b[0mfunc\u001b[0m\u001b[0;34m(\u001b[0m\u001b[0max\u001b[0m\u001b[0;34m,\u001b[0m \u001b[0;34m*\u001b[0m\u001b[0mmap\u001b[0m\u001b[0;34m(\u001b[0m\u001b[0msanitize_sequence\u001b[0m\u001b[0;34m,\u001b[0m \u001b[0margs\u001b[0m\u001b[0;34m)\u001b[0m\u001b[0;34m,\u001b[0m \u001b[0;34m**\u001b[0m\u001b[0mkwargs\u001b[0m\u001b[0;34m)\u001b[0m\u001b[0;34m\u001b[0m\u001b[0;34m\u001b[0m\u001b[0m\n\u001b[0m\u001b[1;32m   1439\u001b[0m \u001b[0;34m\u001b[0m\u001b[0m\n\u001b[1;32m   1440\u001b[0m         \u001b[0mbound\u001b[0m \u001b[0;34m=\u001b[0m \u001b[0mnew_sig\u001b[0m\u001b[0;34m.\u001b[0m\u001b[0mbind\u001b[0m\u001b[0;34m(\u001b[0m\u001b[0max\u001b[0m\u001b[0;34m,\u001b[0m \u001b[0;34m*\u001b[0m\u001b[0margs\u001b[0m\u001b[0;34m,\u001b[0m \u001b[0;34m**\u001b[0m\u001b[0mkwargs\u001b[0m\u001b[0;34m)\u001b[0m\u001b[0;34m\u001b[0m\u001b[0;34m\u001b[0m\u001b[0m\n",
      "\u001b[0;32m~/miniconda3/envs/vision/lib/python3.8/site-packages/matplotlib/axes/_axes.py\u001b[0m in \u001b[0;36mimshow\u001b[0;34m(self, X, cmap, norm, aspect, interpolation, alpha, vmin, vmax, origin, extent, filternorm, filterrad, resample, url, **kwargs)\u001b[0m\n\u001b[1;32m   5521\u001b[0m                               resample=resample, **kwargs)\n\u001b[1;32m   5522\u001b[0m \u001b[0;34m\u001b[0m\u001b[0m\n\u001b[0;32m-> 5523\u001b[0;31m         \u001b[0mim\u001b[0m\u001b[0;34m.\u001b[0m\u001b[0mset_data\u001b[0m\u001b[0;34m(\u001b[0m\u001b[0mX\u001b[0m\u001b[0;34m)\u001b[0m\u001b[0;34m\u001b[0m\u001b[0;34m\u001b[0m\u001b[0m\n\u001b[0m\u001b[1;32m   5524\u001b[0m         \u001b[0mim\u001b[0m\u001b[0;34m.\u001b[0m\u001b[0mset_alpha\u001b[0m\u001b[0;34m(\u001b[0m\u001b[0malpha\u001b[0m\u001b[0;34m)\u001b[0m\u001b[0;34m\u001b[0m\u001b[0;34m\u001b[0m\u001b[0m\n\u001b[1;32m   5525\u001b[0m         \u001b[0;32mif\u001b[0m \u001b[0mim\u001b[0m\u001b[0;34m.\u001b[0m\u001b[0mget_clip_path\u001b[0m\u001b[0;34m(\u001b[0m\u001b[0;34m)\u001b[0m \u001b[0;32mis\u001b[0m \u001b[0;32mNone\u001b[0m\u001b[0;34m:\u001b[0m\u001b[0;34m\u001b[0m\u001b[0;34m\u001b[0m\u001b[0m\n",
      "\u001b[0;32m~/miniconda3/envs/vision/lib/python3.8/site-packages/matplotlib/image.py\u001b[0m in \u001b[0;36mset_data\u001b[0;34m(self, A)\u001b[0m\n\u001b[1;32m    698\u001b[0m         if (self._A.dtype != np.uint8 and\n\u001b[1;32m    699\u001b[0m                 not np.can_cast(self._A.dtype, float, \"same_kind\")):\n\u001b[0;32m--> 700\u001b[0;31m             raise TypeError(\"Image data of dtype {} cannot be converted to \"\n\u001b[0m\u001b[1;32m    701\u001b[0m                             \"float\".format(self._A.dtype))\n\u001b[1;32m    702\u001b[0m \u001b[0;34m\u001b[0m\u001b[0m\n",
      "\u001b[0;31mTypeError\u001b[0m: Image data of dtype object cannot be converted to float"
     ]
    },
    {
     "data": {
      "image/png": "[encoded data removed]",
      "text/plain": [
       "<Figure size 432x288 with 2 Axes>"
      ]
     },
     "metadata": {
      "needs_background": "light"
     },
     "output_type": "display_data"
    }
   ],
   "source": [
    "fig,ax = plt.subplots(1,2)\n",
    "\n",
    "ax[0].imshow(head_output.squeeze())\n",
    "ax[1].imshow(x1)\n",
    "\n",
    "ax[0].set_title(\"original\")\n",
    "ax[1].set_title(\"after positional encoding\")"
   ]
  },
  {
   "cell_type": "code",
   "execution_count": 338,
   "metadata": {},
   "outputs": [
    {
     "data": {
      "text/plain": [
       "(74, 1, 50)"
      ]
     },
     "execution_count": 338,
     "metadata": {},
     "output_type": "execute_result"
    }
   ],
   "source": [
    "x1.shape"
   ]
  },
  {
   "cell_type": "code",
   "execution_count": null,
   "metadata": {},
   "outputs": [],
   "source": [
    "        \n",
    "# neural network \n",
    "# try to create your own self attention from scratch \n",
    "\n",
    "class NeuralNet(nn.Module):\n",
    "    def __init__(self):\n",
    "        \n",
    "        super(NeuralNet,self).__init__()\n",
    "        \n",
    "        self.attention_head = MultiHeadAttention(in_features=50, head_num=1)\n",
    "        \n",
    "        self.Q_head = torch.rand(1,200,50) # 1 is the batch size\n",
    "        self.K_head = torch.rand(1,200,50)\n",
    "        self.V_head = torch.rand(1,200,50)\n",
    "        \n",
    "        self.attention_body = MultiHeadAttention(in_features=50, head_num=1)\n",
    "        \n",
    "        self.Q_body = torch.rand(1,1000,50) # 1 is the batch size\n",
    "        self.K_body = torch.rand(1,1000,50)\n",
    "        self.V_body = torch.rand(1,1000,50)\n",
    "        \n",
    "        # fully connected net \n",
    "                             #shape of the concatenated output\n",
    "        self.fc1 = nn.Linear(60000, 30)   # (1200,50)\n",
    "        self.fc2 = nn.Linear(30, 4)     # (1200,30)\n",
    "        \n",
    "        self.softmax = nn.Softmax(dim=0)\n",
    "        \n",
    "        \n",
    "    def forward(self,head,body):\n",
    "        # apply attention_head on head\n",
    "        # apply attention_body on body\n",
    "        \n",
    "        head_attention  = self.attention_head(self.Q_head,self.K_head,self.V_head) + head\n",
    "        body_attention  = self.attention_body(self.Q_body,self.K_body,self.K_body) + body\n",
    "        \n",
    "        \n",
    "        merge = torch.cat((head_attention,body_attention),axis=1).squeeze().reshape(-1)\n",
    "        print(merge.shape)\n",
    "        output = self.fc1(merge)\n",
    "        output = self.fc2(output)\n",
    "        \n",
    "        output = self.softmax(output)\n",
    "        \n",
    "        return output\n",
    "        \n",
    "        "
   ]
  },
  {
   "cell_type": "code",
   "execution_count": null,
   "metadata": {},
   "outputs": [],
   "source": [
    "net = NeuralNet()\n",
    "#print(net)"
   ]
  },
  {
   "cell_type": "code",
   "execution_count": null,
   "metadata": {},
   "outputs": [],
   "source": [
    "# test the neural network\n",
    "\n",
    "head = torch.tensor(head_output)\n",
    "body = torch.tensor(body_output)\n",
    "print(head.shape)\n",
    "paded_head = padding(head,\"head\")\n",
    "paded_body = padding(body,\"body\")\n",
    "print(paded_body.shape)\n",
    "print(paded_head.shape)\n",
    "\n",
    "output = net(paded_head,paded_body)"
   ]
  },
  {
   "cell_type": "code",
   "execution_count": null,
   "metadata": {},
   "outputs": [],
   "source": [
    "# Training \n",
    "\n",
    "lab = target[2]\n",
    "\n",
    "creatrion = nn.CrossEntropyLoss()\n",
    "optimizer = torch.optim.Adam(net.parameters())\n",
    "loss = creatrion(output.view(1,-1),torch.tensor([lab]))\n",
    "\n",
    "optimizer.zero_grad()   # zero the gradient buffers\n",
    "\n",
    "loss.backward()\n",
    "optimizer.step()    # Does the update\n"
   ]
  },
  {
   "cell_type": "code",
   "execution_count": null,
   "metadata": {},
   "outputs": [],
   "source": []
  },
  {
   "cell_type": "code",
   "execution_count": null,
   "metadata": {},
   "outputs": [],
   "source": []
  }
 ],
 "metadata": {
  "kernelspec": {
   "display_name": "Python 3",
   "language": "python",
   "name": "python3"
  },
  "language_info": {
   "codemirror_mode": {
    "name": "ipython",
    "version": 3
   },
   "file_extension": ".py",
   "mimetype": "text/x-python",
   "name": "python",
   "nbconvert_exporter": "python",
   "pygments_lexer": "ipython3",
   "version": "3.8.5"
  }
 },
 "nbformat": 4,
 "nbformat_minor": 4
}
