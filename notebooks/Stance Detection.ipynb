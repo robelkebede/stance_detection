{
 "cells": [
  {
   "cell_type": "markdown",
   "metadata": {},
   "source": [
    "# Stance Detection"
   ]
  },
  {
   "cell_type": "code",
   "execution_count": 78,
   "metadata": {},
   "outputs": [],
   "source": [
    "import numpy as np\n",
    "import sys\n",
    "\n",
    "sys.path.insert(1,\"../\")\n",
    "from new_util import DataLoader\n",
    "from preprocess import Preprocess\n",
    "from tqdm.notebook import tqdm\n",
    "import matplotlib.pyplot as plt\n"
   ]
  },
  {
   "cell_type": "code",
   "execution_count": 2,
   "metadata": {},
   "outputs": [
    {
     "data": {
      "text/plain": [
       "True"
      ]
     },
     "execution_count": 2,
     "metadata": {},
     "output_type": "execute_result"
    }
   ],
   "source": [
    "\n",
    "dataloader = DataLoader()\n",
    "\n",
    "head,stances,body = dataloader.dataset()\n",
    "len(head) == len(stances) == len(body)"
   ]
  },
  {
   "cell_type": "code",
   "execution_count": 3,
   "metadata": {},
   "outputs": [],
   "source": [
    "  \n",
    "\n",
    "# i dont like this \n",
    "def encoder(stance):\n",
    "    if stance == \"agree\":\n",
    "        return 0\n",
    "    elif stance == \"disagree\":\n",
    "        return 1\n",
    "    elif stance == \"discuss\":\n",
    "        return 2\n",
    "    elif stance == \"unrelated\":\n",
    "        return 3\n",
    "    else:\n",
    "        raise\n",
    "\n",
    "def one_hot(stance):\n",
    "    st_id = encoder(stance) # beter code\n",
    "    zeros = np.zeros(4)\n",
    "    zeros[st_id] = 1\n",
    "    return zeros\n",
    "   \n",
    "labels = [list(one_hot(i)) for i in stances] "
   ]
  },
  {
   "cell_type": "code",
   "execution_count": 4,
   "metadata": {},
   "outputs": [
    {
     "name": "stdout",
     "output_type": "stream",
     "text": [
      "[0.0, 0.0, 0.0, 1.0]\n",
      "unrelated\n"
     ]
    }
   ],
   "source": [
    "print(labels[0])\n",
    "print(stances[0])"
   ]
  },
  {
   "cell_type": "code",
   "execution_count": 5,
   "metadata": {},
   "outputs": [],
   "source": [
    "pre = Preprocess()    \n",
    "pre.parse()  "
   ]
  },
  {
   "cell_type": "code",
   "execution_count": 6,
   "metadata": {},
   "outputs": [
    {
     "name": "stdout",
     "output_type": "stream",
     "text": [
      "[ 0.5897   -0.55043  -1.0106    0.41226   0.57348   0.23464  -0.35773\n",
      " -1.78      0.10745   0.74913   0.45013   1.0351    0.48348   0.47954\n",
      "  0.51908  -0.15053   0.32474   1.0789   -0.90894   0.42943  -0.56388\n",
      "  0.69961   0.13501   0.16557  -0.063592  0.35435   0.42819   0.1536\n",
      " -0.47018  -1.0935    1.361    -0.80821  -0.674     1.2606    0.29554\n",
      "  1.0835    0.2444   -1.1877   -0.60203  -0.068315  0.66256   0.45336\n",
      " -1.0178    0.68267  -0.20788  -0.73393   1.2597    0.15425  -0.93256\n",
      " -0.15025 ]\n"
     ]
    }
   ],
   "source": [
    "print(pre.embeddings_dict[\"python\"])  \n",
    "    "
   ]
  },
  {
   "cell_type": "code",
   "execution_count": 117,
   "metadata": {},
   "outputs": [],
   "source": [
    "# strip out commas and unimportant words\n",
    "\n",
    "def representation(data):\n",
    "    pre_data = []\n",
    "    for i in tqdm(data):\n",
    "        words = []\n",
    "        \n",
    "        sep = i.split(\" \")\n",
    "        for s in sep:\n",
    "            try:\n",
    "                \n",
    "                emb = pre.embeddings_dict[s.lower().replace(\"'\",\"\").replace(\",\",\"\").replace(\"$15/\",\"\")]\n",
    "                words.append(emb)\n",
    "\n",
    "            except KeyError:\n",
    "                pass\n",
    "                #head_words.append()\n",
    "        if words != []:\n",
    "            \n",
    "            pre_data.append(np.array(words))\n",
    "   \n",
    "    #return [x for x in pre_data if x != []]\n",
    "    return pre_data "
   ]
  },
  {
   "cell_type": "code",
   "execution_count": 118,
   "metadata": {},
   "outputs": [
    {
     "data": {
      "application/vnd.jupyter.widget-view+json": {
       "model_id": "f2855e5b1ab644e9bc188a24366043a1",
       "version_major": 2,
       "version_minor": 0
      },
      "text/plain": [
       "HBox(children=(HTML(value=''), FloatProgress(value=0.0, max=91.0), HTML(value='')))"
      ]
     },
     "metadata": {},
     "output_type": "display_data"
    },
    {
     "name": "stdout",
     "output_type": "stream",
     "text": [
      "\n"
     ]
    },
    {
     "data": {
      "application/vnd.jupyter.widget-view+json": {
       "model_id": "db711c2b5677402698e86828c7ae1ccc",
       "version_major": 2,
       "version_minor": 0
      },
      "text/plain": [
       "HBox(children=(HTML(value=''), FloatProgress(value=0.0, max=2584.0), HTML(value='')))"
      ]
     },
     "metadata": {},
     "output_type": "display_data"
    },
    {
     "name": "stdout",
     "output_type": "stream",
     "text": [
      "\n"
     ]
    }
   ],
   "source": [
    "head_output = representation(head[2])\n",
    "body_output = representation(body[1])"
   ]
  },
  {
   "cell_type": "code",
   "execution_count": 119,
   "metadata": {},
   "outputs": [
    {
     "name": "stdout",
     "output_type": "stream",
     "text": [
      "0\n"
     ]
    }
   ],
   "source": [
    "# check if the list have an empty list\n",
    "\n",
    "val = 0\n",
    "for i in head_output:\n",
    "    \n",
    "    try:\n",
    "        i[0]\n",
    "        pass\n",
    "    except IndexError:\n",
    "        \n",
    "        val+=1\n",
    "        \n",
    "print(val)"
   ]
  },
  {
   "cell_type": "code",
   "execution_count": 122,
   "metadata": {},
   "outputs": [
    {
     "name": "stdout",
     "output_type": "stream",
     "text": [
      "74\n"
     ]
    }
   ],
   "source": [
    "#head_output = np.array(head_output)\n",
    "print(len(head_output))"
   ]
  },
  {
   "cell_type": "code",
   "execution_count": 221,
   "metadata": {},
   "outputs": [],
   "source": [
    "# positional encoding from https://robelkebede.github.io/2020/11/06/positional-encoding.html\n",
    "\n",
    "def pos_enc(word_emb,pos):\n",
    "    \n",
    "    word_pos,word_emb = [],np.array([i for i in word_emb],dtype=np.float64)\n",
    "    \n",
    "    for i in range(len(word_emb)):\n",
    "        k = 2*i / len(word_emb)\n",
    "        \n",
    "        if i%2 == 0:\n",
    "            word_pos.append(np.sin(pos/(10000**k)))\n",
    "        else:\n",
    "            word_pos.append(np.cos(pos/(10000**k)))\n",
    "            \n",
    "    #print(pos)\n",
    "   \n",
    "    return word_pos + word_emb\n",
    "    \n",
    "\n",
    "x1 = np.array([pos_enc(head_output[i],i) for i in range(len(head_output))])\n"
   ]
  },
  {
   "cell_type": "code",
   "execution_count": 210,
   "metadata": {},
   "outputs": [],
   "source": [
    "#x = x.reshape(74,50)"
   ]
  },
  {
   "cell_type": "code",
   "execution_count": null,
   "metadata": {},
   "outputs": [],
   "source": []
  }
 ],
 "metadata": {
  "kernelspec": {
   "display_name": "Python 3",
   "language": "python",
   "name": "python3"
  },
  "language_info": {
   "codemirror_mode": {
    "name": "ipython",
    "version": 3
   },
   "file_extension": ".py",
   "mimetype": "text/x-python",
   "name": "python",
   "nbconvert_exporter": "python",
   "pygments_lexer": "ipython3",
   "version": "3.8.5"
  }
 },
 "nbformat": 4,
 "nbformat_minor": 4
}
