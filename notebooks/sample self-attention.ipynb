{
 "cells": [
  {
   "cell_type": "code",
   "execution_count": 3,
   "metadata": {},
   "outputs": [
    {
     "name": "stdout",
     "output_type": "stream",
     "text": [
      "tensor([[0., 0., 0., 0., 0., 0., 0.],\n",
      "        [0., 0., 1., 1., 1., 1., 0.],\n",
      "        [0., 0., 1., 1., 1., 1., 0.],\n",
      "        [0., 0., 1., 1., 1., 1., 0.],\n",
      "        [0., 0., 1., 1., 1., 1., 0.],\n",
      "        [0., 0., 0., 0., 0., 0., 0.]])\n"
     ]
    }
   ],
   "source": [
    "import torch\n",
    "import torch.nn.functional as F\n",
    "data = torch.ones(4, 4)\n",
    "# pad(left, right, top, bottom)\n",
    "new_data = F.pad(input=data, pad=(2, 1, 1, 1), mode='constant', value=0)\n",
    "print(new_data)"
   ]
  },
  {
   "cell_type": "code",
   "execution_count": 55,
   "metadata": {},
   "outputs": [],
   "source": [
    "import numpy as np\n",
    "import scipy"
   ]
  },
  {
   "cell_type": "code",
   "execution_count": 20,
   "metadata": {},
   "outputs": [],
   "source": [
    "# lets assume this are words\n",
    "# Every input must have three representations \n",
    "input1 = np.array([1,0,1,0])\n",
    "input2 = np.array([0,2,0,2])\n",
    "input3 = np.array([1,1,1,1])"
   ]
  },
  {
   "cell_type": "code",
   "execution_count": 34,
   "metadata": {},
   "outputs": [],
   "source": [
    "# every input have 3 representation (key,query,value)\n",
    "\n",
    "key_w = np.array([[0, 0, 1],\n",
    " [1, 1, 0],\n",
    " [0, 1, 0],\n",
    " [1, 1, 0]])\n",
    "query_w = np.array([[1, 0, 1],\n",
    " [1, 0, 0],\n",
    " [0, 0, 1],\n",
    " [0, 1, 1]])\n",
    "value_w = np.array([[0, 2, 0],\n",
    " [0, 3, 0],\n",
    " [1, 0, 3],\n",
    " [1, 1, 0]])"
   ]
  },
  {
   "cell_type": "code",
   "execution_count": 35,
   "metadata": {},
   "outputs": [
    {
     "name": "stdout",
     "output_type": "stream",
     "text": [
      "(4,) (4, 3)\n"
     ]
    }
   ],
   "source": [
    "# Derive key, query and value\n",
    "\n",
    "print(input1.shape, key_w.shape)\n"
   ]
  },
  {
   "cell_type": "code",
   "execution_count": 36,
   "metadata": {},
   "outputs": [],
   "source": [
    "inputs = np.array([input1,input2,input3])"
   ]
  },
  {
   "cell_type": "code",
   "execution_count": 37,
   "metadata": {},
   "outputs": [
    {
     "name": "stdout",
     "output_type": "stream",
     "text": [
      "[[1 0 1 0]\n",
      " [0 2 0 2]\n",
      " [1 1 1 1]]\n"
     ]
    }
   ],
   "source": [
    "print(inputs)"
   ]
  },
  {
   "cell_type": "code",
   "execution_count": 44,
   "metadata": {},
   "outputs": [],
   "source": [
    "# In practice, a bias vector may be added to the product of matrix multiplication.\n",
    "input_key = inputs.dot(key_w)\n",
    "input_query = inputs.dot(query_w)\n",
    "input_value = inputs.dot(value_w)\n",
    "\n",
    "# query (red) ,keys (orange), value (blue)"
   ]
  },
  {
   "cell_type": "code",
   "execution_count": 68,
   "metadata": {},
   "outputs": [
    {
     "data": {
      "text/plain": [
       "array([[1, 2, 3],\n",
       "       [2, 8, 0],\n",
       "       [2, 6, 3]])"
      ]
     },
     "execution_count": 68,
     "metadata": {},
     "output_type": "execute_result"
    }
   ],
   "source": [
    "input_value"
   ]
  },
  {
   "cell_type": "code",
   "execution_count": null,
   "metadata": {},
   "outputs": [],
   "source": [
    "\"\"\"To obtain attention scores, we start off with taking a dot product between Input 1’s query (red) \n",
    "   with all keys (orange), including itself.\n",
    "   \n",
    "   becarefull when you compute the dot product of the matrices\n",
    "\"\"\""
   ]
  },
  {
   "cell_type": "code",
   "execution_count": 53,
   "metadata": {},
   "outputs": [],
   "source": [
    "dot_output = input_query[0].dot(input_key.T)"
   ]
  },
  {
   "cell_type": "code",
   "execution_count": 57,
   "metadata": {},
   "outputs": [],
   "source": [
    "softmax = lambda x:np.exp(x - np.max(x)) / np.exp(x - np.max(x)).sum()"
   ]
  },
  {
   "cell_type": "code",
   "execution_count": 58,
   "metadata": {},
   "outputs": [],
   "source": [
    "output = softmax(dot_output)"
   ]
  },
  {
   "cell_type": "code",
   "execution_count": 61,
   "metadata": {},
   "outputs": [
    {
     "name": "stdout",
     "output_type": "stream",
     "text": [
      "[0.06337894 0.46831053 0.46831053]\n",
      "[2 4 4]\n"
     ]
    }
   ],
   "source": [
    "print(output)\n",
    "print(dot_output)"
   ]
  },
  {
   "cell_type": "code",
   "execution_count": 82,
   "metadata": {},
   "outputs": [],
   "source": [
    "final_output = []\n",
    "for i,val in enumerate(output):\n",
    "    final_output.append(list(val*input_value[i]))"
   ]
  },
  {
   "cell_type": "code",
   "execution_count": 83,
   "metadata": {},
   "outputs": [
    {
     "data": {
      "text/plain": [
       "[[0.06337893833303762, 0.12675787666607524, 0.19013681499911286],\n",
       " [0.9366210616669624, 3.7464842466678494, 0.0],\n",
       " [0.9366210616669624, 2.809863185000887, 1.4049315925004435]]"
      ]
     },
     "execution_count": 83,
     "metadata": {},
     "output_type": "execute_result"
    }
   ],
   "source": [
    "final_output"
   ]
  },
  {
   "cell_type": "code",
   "execution_count": 100,
   "metadata": {},
   "outputs": [],
   "source": [
    "weighted_sum = np.sum(final_output,axis=0)"
   ]
  },
  {
   "cell_type": "code",
   "execution_count": 102,
   "metadata": {},
   "outputs": [
    {
     "data": {
      "text/plain": [
       "array([1.93662106, 6.68310531, 1.59506841])"
      ]
     },
     "execution_count": 102,
     "metadata": {},
     "output_type": "execute_result"
    }
   ],
   "source": [
    "#  query representation from Input 1\n",
    "weighted_sum"
   ]
  },
  {
   "cell_type": "code",
   "execution_count": null,
   "metadata": {},
   "outputs": [],
   "source": []
  }
 ],
 "metadata": {
  "kernelspec": {
   "display_name": "Python 3",
   "language": "python",
   "name": "python3"
  },
  "language_info": {
   "codemirror_mode": {
    "name": "ipython",
    "version": 3
   },
   "file_extension": ".py",
   "mimetype": "text/x-python",
   "name": "python",
   "nbconvert_exporter": "python",
   "pygments_lexer": "ipython3",
   "version": "3.8.5"
  }
 },
 "nbformat": 4,
 "nbformat_minor": 4
}
