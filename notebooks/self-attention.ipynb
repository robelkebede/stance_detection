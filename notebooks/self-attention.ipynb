{
 "cells": [
  {
   "cell_type": "code",
   "execution_count": 220,
   "metadata": {},
   "outputs": [],
   "source": [
    "import numpy as np\n",
    "from sklearn.datasets import load_iris\n",
    "import matplotlib.pyplot as plt\n",
    "import torch\n",
    "from torch import nn\n"
   ]
  },
  {
   "cell_type": "code",
   "execution_count": 193,
   "metadata": {},
   "outputs": [],
   "source": [
    "dataset = load_iris()\n",
    "X =dataset.data\n",
    "y = dataset.target"
   ]
  },
  {
   "cell_type": "code",
   "execution_count": 199,
   "metadata": {},
   "outputs": [],
   "source": [
    "\n",
    "class Attention(nn.Module):\n",
    "    def __init__(self):\n",
    "        super(Attention,self).__init__()\n",
    "        \n",
    "        self.k = torch.rand(4,4,requires_grad=True,dtype=torch.float32)\n",
    "        self.q = torch.rand(4,4,requires_grad=True,dtype=torch.float32)\n",
    "        self.v = torch.rand(4,4,requires_grad=True,dtype=torch.float32)\n",
    "        \n",
    "        self.fc1 = nn.Linear(16,3)\n",
    "        \n",
    "        self.softmax = nn.Softmax(dim=0)\n",
    "    \n",
    "    def forward(self,X):\n",
    "        key_input = self.k * X\n",
    "        query_input = self.q * X\n",
    "        value_input = self.v * X\n",
    "        \n",
    "        dv_dot = torch.matmul(query_input, key_input)\n",
    "        k_dim = np.sqrt(self.k.shape[0])\n",
    "        \n",
    "        output = torch.matmul(self.softmax(dv_dot/k_dim) , value_input)\n",
    "        \n",
    "        output = output.view(-1).float()\n",
    "\n",
    "        output = self.fc1(output)\n",
    "        output = self.softmax(output)\n",
    "        \n",
    "        return output"
   ]
  },
  {
   "cell_type": "code",
   "execution_count": 200,
   "metadata": {},
   "outputs": [
    {
     "name": "stdout",
     "output_type": "stream",
     "text": [
      "Attention(\n",
      "  (fc1): Linear(in_features=16, out_features=3, bias=True)\n",
      "  (softmax): Softmax(dim=0)\n",
      ")\n"
     ]
    }
   ],
   "source": [
    "network = Attention()\n",
    "print(network)"
   ]
  },
  {
   "cell_type": "code",
   "execution_count": 201,
   "metadata": {},
   "outputs": [],
   "source": [
    "output = network(torch.tensor(X[0]))"
   ]
  },
  {
   "cell_type": "code",
   "execution_count": 197,
   "metadata": {},
   "outputs": [
    {
     "data": {
      "text/plain": [
       "tensor([0.1079, 0.2120, 0.6801], grad_fn=<SoftmaxBackward>)"
      ]
     },
     "execution_count": 197,
     "metadata": {},
     "output_type": "execute_result"
    }
   ],
   "source": [
    "output"
   ]
  },
  {
   "cell_type": "code",
   "execution_count": 212,
   "metadata": {},
   "outputs": [],
   "source": [
    "creatrion = nn.CrossEntropyLoss()\n",
    "optimizer = torch.optim.Adam(network.parameters())\n"
   ]
  },
  {
   "cell_type": "code",
   "execution_count": 213,
   "metadata": {},
   "outputs": [
    {
     "name": "stdout",
     "output_type": "stream",
     "text": [
      "tensor(0.6275, grad_fn=<NllLossBackward>)\n"
     ]
    }
   ],
   "source": [
    "print(loss)"
   ]
  },
  {
   "cell_type": "code",
   "execution_count": 221,
   "metadata": {},
   "outputs": [
    {
     "name": "stdout",
     "output_type": "stream",
     "text": [
      "0.5854195952415466\n",
      "0.6142747402191162\n",
      "0.5972210168838501\n",
      "0.6137183904647827\n",
      "0.5805282592773438\n",
      "0.587422788143158\n",
      "0.5961020588874817\n",
      "0.5903769731521606\n",
      "0.6210015416145325\n",
      "0.5984545350074768\n",
      "0.5757315754890442\n",
      "0.5926021933555603\n",
      "0.5983081459999084\n",
      "0.5891938209533691\n",
      "0.5624457001686096\n",
      "0.5644772052764893\n",
      "0.5712043642997742\n",
      "0.5820847749710083\n",
      "0.5770754814147949\n",
      "0.5740455985069275\n",
      "0.5871396064758301\n",
      "0.5807629823684692\n",
      "0.5671802759170532\n",
      "0.6173521280288696\n",
      "0.5960275530815125\n",
      "0.6041820049285889\n",
      "0.5949201583862305\n",
      "0.5752028226852417\n",
      "0.5755466222763062\n",
      "0.5916351079940796\n",
      "0.5956289768218994\n",
      "0.5852882266044617\n",
      "0.5598660111427307\n",
      "0.5589418411254883\n",
      "0.5885729789733887\n",
      "0.575333297252655\n",
      "0.5673789978027344\n",
      "0.5656686425209045\n",
      "0.5878850221633911\n",
      "0.5739697813987732\n",
      "0.5708563923835754\n",
      "0.651972770690918\n",
      "0.5779752135276794\n",
      "0.5924584269523621\n",
      "0.5772421360015869\n",
      "0.5910053849220276\n",
      "0.5645282864570618\n",
      "0.5774657726287842\n",
      "0.5640832185745239\n",
      "0.5719183683395386\n",
      "1.2792136669158936\n",
      "1.293272852897644\n",
      "1.3477649688720703\n",
      "1.175083875656128\n",
      "1.305567979812622\n",
      "1.2372015714645386\n",
      "1.3366787433624268\n",
      "1.0032997131347656\n",
      "1.2001889944076538\n",
      "1.1431368589401245\n",
      "0.9807502627372742\n",
      "1.1825122833251953\n",
      "0.9877499938011169\n",
      "1.2154053449630737\n",
      "1.0065860748291016\n",
      "1.0972727537155151\n",
      "1.1823928356170654\n",
      "0.9457762837409973\n",
      "1.1582183837890625\n",
      "0.9231560826301575\n",
      "1.2687649726867676\n",
      "0.9327852725982666\n",
      "1.154270052909851\n",
      "0.9747202396392822\n",
      "0.9098646640777588\n",
      "0.9249942302703857\n",
      "0.9743661284446716\n",
      "1.1135333776474\n",
      "0.94843989610672\n",
      "0.7845108509063721\n",
      "0.7744689583778381\n",
      "0.7532970905303955\n",
      "0.7618707418441772\n",
      "1.0136603116989136\n",
      "0.8623756170272827\n",
      "0.8343737721443176\n",
      "0.7987877130508423\n",
      "0.7508224844932556\n",
      "0.7249605059623718\n",
      "0.7196437120437622\n",
      "0.7201113700866699\n",
      "0.7296690344810486\n",
      "0.677852988243103\n",
      "0.6771618127822876\n",
      "0.6861166954040527\n",
      "0.6667394042015076\n",
      "0.6690402626991272\n",
      "0.6562820672988892\n",
      "0.6713730096817017\n",
      "0.6528630256652832\n",
      "0.7578964233398438\n",
      "1.0782253742218018\n",
      "0.9425967931747437\n",
      "1.0704628229141235\n",
      "0.8898248076438904\n",
      "0.8385624885559082\n",
      "1.1888995170593262\n",
      "0.974254846572876\n",
      "0.9940341114997864\n",
      "0.7551701664924622\n",
      "1.0603859424591064\n",
      "1.0022516250610352\n",
      "0.9064916372299194\n",
      "0.9393528699874878\n",
      "0.7977233529090881\n",
      "0.8122844696044922\n",
      "0.9297317862510681\n",
      "0.6734500527381897\n",
      "0.6246231198310852\n",
      "1.0125787258148193\n",
      "0.6970154047012329\n",
      "0.8330077528953552\n",
      "0.6515536308288574\n",
      "0.891953706741333\n",
      "0.692362368106842\n",
      "0.7284975647926331\n",
      "0.8615214228630066\n",
      "0.8309808969497681\n",
      "0.6535910964012146\n",
      "0.7567107677459717\n",
      "0.6450839042663574\n",
      "0.6171519756317139\n",
      "0.6167755126953125\n",
      "0.8107246160507202\n",
      "0.7408490777015686\n",
      "0.5857266783714294\n",
      "0.5883347392082214\n",
      "0.6531983613967896\n",
      "0.7159414291381836\n",
      "0.6160320043563843\n",
      "0.5810887217521667\n",
      "0.6072098612785339\n",
      "0.637301504611969\n",
      "0.5738956332206726\n",
      "0.5698407888412476\n",
      "0.592196524143219\n",
      "0.6350874304771423\n",
      "0.6121731400489807\n",
      "0.5800299048423767\n",
      "0.6330370903015137\n"
     ]
    }
   ],
   "source": [
    "# training\n",
    "losses = []\n",
    "for i in range(1):\n",
    "    for i in range(X.shape[0]):\n",
    "        \n",
    "        output = network(torch.tensor(X[i]))\n",
    "\n",
    "        loss = creatrion(output.view(1,-1),torch.tensor([y[i]]))\n",
    "        \n",
    "        optimizer.zero_grad()   # zero the gradient buffers\n",
    "\n",
    "        loss.backward()\n",
    "        optimizer.step() \n",
    "        losses.append(loss.item())\n",
    "        print(loss.item())\n",
    "        "
   ]
  },
  {
   "cell_type": "code",
   "execution_count": 222,
   "metadata": {},
   "outputs": [],
   "source": [
    "%matplotlib inline"
   ]
  },
  {
   "cell_type": "code",
   "execution_count": 223,
   "metadata": {},
   "outputs": [
    {
     "data": {
      "text/plain": [
       "[<matplotlib.lines.Line2D at 0x7f536d499760>]"
      ]
     },
     "execution_count": 223,
     "metadata": {},
     "output_type": "execute_result"
    },
    {
     "data": {
      "image/png": "[encoded data removed]",
      "text/plain": [
       "<Figure size 432x288 with 1 Axes>"
      ]
     },
     "metadata": {
      "needs_background": "light"
     },
     "output_type": "display_data"
    }
   ],
   "source": [
    "plt.plot(losses)"
   ]
  },
  {
   "cell_type": "code",
   "execution_count": null,
   "metadata": {},
   "outputs": [],
   "source": []
  }
 ],
 "metadata": {
  "kernelspec": {
   "display_name": "Python 3",
   "language": "python",
   "name": "python3"
  },
  "language_info": {
   "codemirror_mode": {
    "name": "ipython",
    "version": 3
   },
   "file_extension": ".py",
   "mimetype": "text/x-python",
   "name": "python",
   "nbconvert_exporter": "python",
   "pygments_lexer": "ipython3",
   "version": "3.8.5"
  }
 },
 "nbformat": 4,
 "nbformat_minor": 4
}
