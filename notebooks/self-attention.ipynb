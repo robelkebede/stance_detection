{
 "cells": [
  {
   "cell_type": "code",
   "execution_count": 1,
   "metadata": {},
   "outputs": [],
   "source": [
    "import numpy as np\n",
    "from sklearn.datasets import load_iris\n",
    "import matplotlib.pyplot as plt\n",
    "import torch\n",
    "from torch import nn\n",
    "from torch.utils.tensorboard import SummaryWriter\n"
   ]
  },
  {
   "cell_type": "code",
   "execution_count": 2,
   "metadata": {},
   "outputs": [],
   "source": [
    "dataset = load_iris()\n",
    "X = np.array(dataset.data)\n",
    "y = np.array(dataset.target)\n",
    "\n",
    "X = torch.utils.data.DataLoader(X)\n",
    "target = torch.utils.data.DataLoader(y)"
   ]
  },
  {
   "cell_type": "code",
   "execution_count": 61,
   "metadata": {},
   "outputs": [],
   "source": [
    "\n",
    "class Attention(nn.Module):\n",
    "    def __init__(self):\n",
    "        super(Attention,self).__init__()\n",
    "        \n",
    "        \n",
    "        self.k = torch.rand(4,4)\n",
    "        self.q = torch.rand(4,4)\n",
    "        self.v = torch.rand(4,4)\n",
    "      \n",
    "        \n",
    "        self.fc1 = nn.Linear(16,3)\n",
    "        \n",
    "        self.softmax = nn.Softmax(dim=0)\n",
    "    \n",
    "    def forward(self,X):\n",
    "        key_input = self.k * X\n",
    "        query_input = self.q * X\n",
    "        value_input = self.v * X\n",
    "        \n",
    "        dv_dot = torch.matmul(query_input, key_input)\n",
    "        k_dim = np.sqrt(self.k.shape[0])\n",
    "        \n",
    "        output_matmul = torch.matmul(self.softmax(dv_dot/k_dim) , value_input)\n",
    "        \n",
    "        output_reshape = output_matmul.view(-1).float()\n",
    "\n",
    "        output_fc1 = self.fc1(output_reshape)\n",
    "        output = self.softmax(output_fc1)\n",
    "        \n",
    "        return output"
   ]
  },
  {
   "cell_type": "code",
   "execution_count": 70,
   "metadata": {},
   "outputs": [],
   "source": [
    "network = Attention()\n"
   ]
  },
  {
   "cell_type": "code",
   "execution_count": 71,
   "metadata": {},
   "outputs": [],
   "source": [
    "creatrion = nn.CrossEntropyLoss()\n",
    "optimizer = torch.optim.Adam(network.parameters())\n"
   ]
  },
  {
   "cell_type": "code",
   "execution_count": 74,
   "metadata": {},
   "outputs": [],
   "source": [
    "# training\n",
    "losses = []\n",
    "for i in range(100):\n",
    "    \n",
    "    dataiter_x = iter(X)\n",
    "    dataiter_y = iter(target)\n",
    "\n",
    "    x = dataiter_x.next()\n",
    "    y = dataiter_y.next()\n",
    "    output = network(x)\n",
    "    #output = network(torch.tensor(x))\n",
    "\n",
    "\n",
    "    loss = creatrion(output.view(1,-1),y)\n",
    "\n",
    "    optimizer.zero_grad()  \n",
    "\n",
    "    loss.backward()\n",
    "    optimizer.step() \n",
    "    losses.append(loss.item())\n",
    "    "
   ]
  },
  {
   "cell_type": "code",
   "execution_count": 75,
   "metadata": {},
   "outputs": [],
   "source": [
    "%matplotlib inline"
   ]
  },
  {
   "cell_type": "code",
   "execution_count": 76,
   "metadata": {},
   "outputs": [
    {
     "data": {
      "text/plain": [
       "[<matplotlib.lines.Line2D at 0x7f92a1509340>]"
      ]
     },
     "execution_count": 76,
     "metadata": {},
     "output_type": "execute_result"
    },
    {
     "data": {
      "image/png": "[encoded data removed]",
      "text/plain": [
       "<Figure size 432x288 with 1 Axes>"
      ]
     },
     "metadata": {
      "needs_background": "light"
     },
     "output_type": "display_data"
    }
   ],
   "source": [
    "plt.plot(losses)"
   ]
  },
  {
   "cell_type": "code",
   "execution_count": 77,
   "metadata": {},
   "outputs": [],
   "source": [
    "writer = SummaryWriter('runs/fashion_mnist_experiment_1')\n",
    "for i in range(100):\n",
    "    writer.add_scalar(\"loss\",np.random.rand(),i)\n",
    "    writer.add_scalar(\"accuracy\",np.random.rand(),i)"
   ]
  },
  {
   "cell_type": "code",
   "execution_count": 79,
   "metadata": {},
   "outputs": [],
   "source": [
    "x = iter(X)\n",
    "writer.add_graph(network, next(x))\n",
    "writer.close()"
   ]
  },
  {
   "cell_type": "code",
   "execution_count": null,
   "metadata": {},
   "outputs": [],
   "source": []
  },
  {
   "cell_type": "code",
   "execution_count": null,
   "metadata": {},
   "outputs": [],
   "source": []
  }
 ],
 "metadata": {
  "kernelspec": {
   "display_name": "Python 3",
   "language": "python",
   "name": "python3"
  },
  "language_info": {
   "codemirror_mode": {
    "name": "ipython",
    "version": 3
   },
   "file_extension": ".py",
   "mimetype": "text/x-python",
   "name": "python",
   "nbconvert_exporter": "python",
   "pygments_lexer": "ipython3",
   "version": "3.8.5"
  }
 },
 "nbformat": 4,
 "nbformat_minor": 4
}
